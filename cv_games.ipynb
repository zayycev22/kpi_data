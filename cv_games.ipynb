{
 "cells": [
  {
   "cell_type": "code",
   "execution_count": 1,
   "id": "initial_id",
   "metadata": {
    "collapsed": true,
    "ExecuteTime": {
     "end_time": "2023-08-26T10:13:39.114779100Z",
     "start_time": "2023-08-26T10:13:38.901780800Z"
    }
   },
   "outputs": [],
   "source": [
    "import numpy as np\n",
    "import cv2"
   ]
  },
  {
   "cell_type": "code",
   "execution_count": 2,
   "outputs": [],
   "source": [
    "img = cv2.resize(cv2.imread('train_dataset/tg/images/0bba75b2-9ae6-49dd-a048-48a870bfd886.jpg', 0), (0, 0), fx=0.8, fy=0.8)\n",
    "template = cv2.resize(cv2.imread('train_dataset/tg/mask3.png', 0), (0, 0), fx=0.8, fy=0.8)\n",
    "h, w = template.shape"
   ],
   "metadata": {
    "collapsed": false,
    "ExecuteTime": {
     "end_time": "2023-08-26T10:13:42.361763300Z",
     "start_time": "2023-08-26T10:13:42.325765500Z"
    }
   },
   "id": "5e2f62c3e15d523c"
  },
  {
   "cell_type": "code",
   "execution_count": 3,
   "outputs": [
    {
     "data": {
      "text/plain": "[4, 5, 2, 3, 0, 1]"
     },
     "execution_count": 3,
     "metadata": {},
     "output_type": "execute_result"
    }
   ],
   "source": [
    "methods = [cv2.TM_CCOEFF, cv2.TM_CCOEFF_NORMED, cv2.TM_CCORR,\n",
    "           cv2.TM_CCORR_NORMED, cv2.TM_SQDIFF, cv2.TM_SQDIFF_NORMED]\n",
    "methods"
   ],
   "metadata": {
    "collapsed": false,
    "ExecuteTime": {
     "end_time": "2023-08-26T10:13:43.832002700Z",
     "start_time": "2023-08-26T10:13:43.801004400Z"
    }
   },
   "id": "a902a1e48c6562a2"
  },
  {
   "cell_type": "code",
   "execution_count": 4,
   "outputs": [],
   "source": [
    "method = cv2.TM_CCOEFF_NORMED"
   ],
   "metadata": {
    "collapsed": false,
    "ExecuteTime": {
     "end_time": "2023-08-26T10:13:45.461579200Z",
     "start_time": "2023-08-26T10:13:45.446579400Z"
    }
   },
   "id": "494fd9580b54eb15"
  },
  {
   "cell_type": "code",
   "execution_count": 5,
   "outputs": [],
   "source": [
    "for method in methods:\n",
    "    img2 = img.copy()\n",
    "    \n",
    "    result = cv2.matchTemplate(img2, template, method)\n",
    "    min_val, max_val, min_loc, max_loc = cv2.minMaxLoc(result)\n",
    "    if method in [cv2.TM_SQDIFF, cv2.TM_SQDIFF_NORMED]:\n",
    "        location = min_loc\n",
    "    else:\n",
    "        location = max_loc\n",
    "    \n",
    "    bottom_right = (location[0] + w, location[1] + h)\n",
    "    cv2.rectangle(img2, location, bottom_right, 0, 5)\n",
    "    cv2.imshow('Match', img2)\n",
    "    cv2.waitKey(0)\n",
    "    cv2.destroyAllWindows()"
   ],
   "metadata": {
    "collapsed": false,
    "ExecuteTime": {
     "end_time": "2023-08-26T10:15:06.974677500Z",
     "start_time": "2023-08-26T10:13:46.921900600Z"
    }
   },
   "id": "2f613721926f81b9"
  },
  {
   "cell_type": "code",
   "execution_count": 6,
   "outputs": [
    {
     "data": {
      "text/plain": "(467, 402)"
     },
     "execution_count": 6,
     "metadata": {},
     "output_type": "execute_result"
    }
   ],
   "source": [
    "location"
   ],
   "metadata": {
    "collapsed": false,
    "ExecuteTime": {
     "end_time": "2023-08-26T10:15:12.833320400Z",
     "start_time": "2023-08-26T10:15:12.825321600Z"
    }
   },
   "id": "f10f7647b103b4b3"
  },
  {
   "cell_type": "code",
   "execution_count": 7,
   "outputs": [],
   "source": [
    "cropped_img = img[location[1]:location[1] + h, location[0]:location[0] + w]\n",
    "cv2.imshow(\"asdsad\", cropped_img)\n",
    "cv2.waitKey(0)\n",
    "cv2.destroyAllWindows()"
   ],
   "metadata": {
    "collapsed": false,
    "ExecuteTime": {
     "end_time": "2023-08-26T10:15:17.022728500Z",
     "start_time": "2023-08-26T10:15:14.340249600Z"
    }
   },
   "id": "ff75f4edb66e66ef"
  },
  {
   "cell_type": "code",
   "execution_count": 8,
   "outputs": [],
   "source": [
    "from easyocr import Reader\n",
    "\n",
    "reader = Reader(lang_list=['ru', 'en'], gpu=True)"
   ],
   "metadata": {
    "collapsed": false,
    "ExecuteTime": {
     "end_time": "2023-08-26T10:15:26.720849600Z",
     "start_time": "2023-08-26T10:15:18.695687400Z"
    }
   },
   "id": "22d194c3874cf169"
  },
  {
   "cell_type": "code",
   "execution_count": 9,
   "outputs": [
    {
     "data": {
      "text/plain": "['144', 'СРЕДНИЙ ПУЕЛI', '129,796 ERF 09b ERR24']"
     },
     "execution_count": 9,
     "metadata": {},
     "output_type": "execute_result"
    }
   ],
   "source": [
    "reader.readtext(cropped_img, detail=0, paragraph=True)"
   ],
   "metadata": {
    "collapsed": false,
    "ExecuteTime": {
     "end_time": "2023-08-26T10:15:30.595266900Z",
     "start_time": "2023-08-26T10:15:28.832205700Z"
    }
   },
   "id": "f5128d9d2805bccc"
  }
 ],
 "metadata": {
  "kernelspec": {
   "display_name": "Python 3",
   "language": "python",
   "name": "python3"
  },
  "language_info": {
   "codemirror_mode": {
    "name": "ipython",
    "version": 2
   },
   "file_extension": ".py",
   "mimetype": "text/x-python",
   "name": "python",
   "nbconvert_exporter": "python",
   "pygments_lexer": "ipython2",
   "version": "2.7.6"
  }
 },
 "nbformat": 4,
 "nbformat_minor": 5
}
