{
 "cells": [
  {
   "cell_type": "code",
   "execution_count": 1,
   "id": "initial_id",
   "metadata": {
    "collapsed": true,
    "ExecuteTime": {
     "end_time": "2023-08-25T21:16:10.121004200Z",
     "start_time": "2023-08-25T21:16:03.360524900Z"
    }
   },
   "outputs": [],
   "source": [
    "import pandas as pd\n",
    "import os\n",
    "from easyocr import Reader\n",
    "\n",
    "reader = Reader(lang_list=['ru', 'en'], gpu=True)\n",
    "platform_dict = {\n",
    "    \"tg\": 1,\n",
    "    \"vk\": 2,\n",
    "    \"zn\": 3\n",
    "}\n",
    "yt = 4\n",
    "DATASET = \"train_dataset\"\n",
    "\n",
    "ALLOWED_FILES = ('.png', \".jpg\", \".jpeg\")"
   ]
  },
  {
   "cell_type": "code",
   "execution_count": 4,
   "outputs": [],
   "source": [
    "import torch"
   ],
   "metadata": {
    "collapsed": false,
    "ExecuteTime": {
     "end_time": "2023-08-25T19:44:16.743923400Z",
     "start_time": "2023-08-25T19:44:16.729925600Z"
    }
   },
   "id": "b3032ad64a43cbb8"
  },
  {
   "cell_type": "code",
   "execution_count": 5,
   "outputs": [
    {
     "data": {
      "text/plain": "True"
     },
     "execution_count": 5,
     "metadata": {},
     "output_type": "execute_result"
    }
   ],
   "source": [
    "torch.cuda.is_available()"
   ],
   "metadata": {
    "collapsed": false,
    "ExecuteTime": {
     "end_time": "2023-08-25T19:44:16.789920600Z",
     "start_time": "2023-08-25T19:44:16.744924100Z"
    }
   },
   "id": "6dadbc4e777f639e"
  },
  {
   "cell_type": "code",
   "execution_count": 2,
   "outputs": [],
   "source": [
    "tg_df = pd.read_excel(f\"{DATASET}/tg/tg.xlsx\")\n",
    "vk_df = pd.read_excel(f\"{DATASET}/vk/vk.xlsx\")\n",
    "zn_df = pd.read_excel(f\"{DATASET}/zn/zn.xlsx\")"
   ],
   "metadata": {
    "collapsed": false,
    "ExecuteTime": {
     "end_time": "2023-08-25T21:16:13.707706700Z",
     "start_time": "2023-08-25T21:16:13.320708800Z"
    }
   },
   "id": "1baa9937c3121a75"
  },
  {
   "cell_type": "code",
   "execution_count": 3,
   "outputs": [],
   "source": [
    "tg_df.rename({'VR': 'y'}, inplace=True, axis=1)\n",
    "vk_df.rename({\"Количество подписчиков\": 'y'}, inplace=True, axis=1)\n",
    "zn_df.rename({\"Количество дочитываний\": 'y'}, inplace=True, axis=1)"
   ],
   "metadata": {
    "collapsed": false,
    "ExecuteTime": {
     "end_time": "2023-08-25T21:16:13.793706900Z",
     "start_time": "2023-08-25T21:16:13.769708800Z"
    }
   },
   "id": "e410c2a1be30acc2"
  },
  {
   "cell_type": "code",
   "execution_count": 4,
   "outputs": [
    {
     "data": {
      "text/plain": "        y                                      image\n0     898   85b23803-d48f-46c8-adf5-b1944865041e.jpg\n1    1523   d4f1e1da-99d1-410e-8e2f-214d006a0823.jpg\n2     213   0918154b-d999-4978-9216-29e73f27ffed.png\n3     248   ce59a28e-1358-402a-9784-fe7d074fa5b1.jpg\n4     967  014db9f7-b32d-4eae-a9cd-216f57b3a0f7.docx\n..    ...                                        ...\n710   840   48a4dd38-121d-4741-ad06-ac8887be0ee7.jpg\n711   189   700f2946-e271-4c8b-b449-96d42b0977df.jpg\n712    12   dd58ff06-7499-4166-8bc8-f5c18f372e1c.png\n713    34   f99bdad1-cbd4-4399-8441-8a2dd742c4cb.jpg\n714   644   1675c9b9-934b-4eb1-9e9b-fda0f1243528.png\n\n[715 rows x 2 columns]",
      "text/html": "<div>\n<style scoped>\n    .dataframe tbody tr th:only-of-type {\n        vertical-align: middle;\n    }\n\n    .dataframe tbody tr th {\n        vertical-align: top;\n    }\n\n    .dataframe thead th {\n        text-align: right;\n    }\n</style>\n<table border=\"1\" class=\"dataframe\">\n  <thead>\n    <tr style=\"text-align: right;\">\n      <th></th>\n      <th>y</th>\n      <th>image</th>\n    </tr>\n  </thead>\n  <tbody>\n    <tr>\n      <th>0</th>\n      <td>898</td>\n      <td>85b23803-d48f-46c8-adf5-b1944865041e.jpg</td>\n    </tr>\n    <tr>\n      <th>1</th>\n      <td>1523</td>\n      <td>d4f1e1da-99d1-410e-8e2f-214d006a0823.jpg</td>\n    </tr>\n    <tr>\n      <th>2</th>\n      <td>213</td>\n      <td>0918154b-d999-4978-9216-29e73f27ffed.png</td>\n    </tr>\n    <tr>\n      <th>3</th>\n      <td>248</td>\n      <td>ce59a28e-1358-402a-9784-fe7d074fa5b1.jpg</td>\n    </tr>\n    <tr>\n      <th>4</th>\n      <td>967</td>\n      <td>014db9f7-b32d-4eae-a9cd-216f57b3a0f7.docx</td>\n    </tr>\n    <tr>\n      <th>...</th>\n      <td>...</td>\n      <td>...</td>\n    </tr>\n    <tr>\n      <th>710</th>\n      <td>840</td>\n      <td>48a4dd38-121d-4741-ad06-ac8887be0ee7.jpg</td>\n    </tr>\n    <tr>\n      <th>711</th>\n      <td>189</td>\n      <td>700f2946-e271-4c8b-b449-96d42b0977df.jpg</td>\n    </tr>\n    <tr>\n      <th>712</th>\n      <td>12</td>\n      <td>dd58ff06-7499-4166-8bc8-f5c18f372e1c.png</td>\n    </tr>\n    <tr>\n      <th>713</th>\n      <td>34</td>\n      <td>f99bdad1-cbd4-4399-8441-8a2dd742c4cb.jpg</td>\n    </tr>\n    <tr>\n      <th>714</th>\n      <td>644</td>\n      <td>1675c9b9-934b-4eb1-9e9b-fda0f1243528.png</td>\n    </tr>\n  </tbody>\n</table>\n<p>715 rows × 2 columns</p>\n</div>"
     },
     "execution_count": 4,
     "metadata": {},
     "output_type": "execute_result"
    }
   ],
   "source": [
    "vk_df"
   ],
   "metadata": {
    "collapsed": false,
    "ExecuteTime": {
     "end_time": "2023-08-25T21:16:14.843868500Z",
     "start_time": "2023-08-25T21:16:14.815868900Z"
    }
   },
   "id": "f2948c0b13872c54"
  },
  {
   "cell_type": "code",
   "execution_count": 9,
   "outputs": [
    {
     "data": {
      "text/plain": "'9.5.0'"
     },
     "execution_count": 9,
     "metadata": {},
     "output_type": "execute_result"
    }
   ],
   "source": [
    "import PIL\n",
    "\n",
    "PIL.__version__"
   ],
   "metadata": {
    "collapsed": false,
    "ExecuteTime": {
     "end_time": "2023-08-25T19:44:17.216491600Z",
     "start_time": "2023-08-25T19:44:17.142118500Z"
    }
   },
   "id": "20978051d907e586"
  },
  {
   "cell_type": "code",
   "execution_count": 5,
   "outputs": [
    {
     "data": {
      "text/plain": "Empty DataFrame\nColumns: [text, platform, y]\nIndex: []",
      "text/html": "<div>\n<style scoped>\n    .dataframe tbody tr th:only-of-type {\n        vertical-align: middle;\n    }\n\n    .dataframe tbody tr th {\n        vertical-align: top;\n    }\n\n    .dataframe thead th {\n        text-align: right;\n    }\n</style>\n<table border=\"1\" class=\"dataframe\">\n  <thead>\n    <tr style=\"text-align: right;\">\n      <th></th>\n      <th>text</th>\n      <th>platform</th>\n      <th>y</th>\n    </tr>\n  </thead>\n  <tbody>\n  </tbody>\n</table>\n</div>"
     },
     "execution_count": 5,
     "metadata": {},
     "output_type": "execute_result"
    }
   ],
   "source": [
    "df = pd.DataFrame(columns=[\"text\", \"platform\", \"y\"])\n",
    "df"
   ],
   "metadata": {
    "collapsed": false,
    "ExecuteTime": {
     "end_time": "2023-08-25T21:16:21.677387200Z",
     "start_time": "2023-08-25T21:16:21.662866800Z"
    }
   },
   "id": "eb82ba5c7ad472e"
  },
  {
   "cell_type": "code",
   "execution_count": 6,
   "outputs": [],
   "source": [
    "def get_images(df: pd.DataFrame) -> list:\n",
    "    return df['image'].tolist()"
   ],
   "metadata": {
    "collapsed": false,
    "ExecuteTime": {
     "end_time": "2023-08-25T21:16:22.215801400Z",
     "start_time": "2023-08-25T21:16:22.182802Z"
    }
   },
   "id": "1818229c5f4dfa98"
  },
  {
   "cell_type": "code",
   "execution_count": 7,
   "outputs": [],
   "source": [
    "from typing import Union\n",
    "\n",
    "\n",
    "def get_y_value(df: pd.DataFrame, filename) -> Union[int, float]:\n",
    "    return df[df['image'] == filename]['y'].values[0]"
   ],
   "metadata": {
    "collapsed": false,
    "ExecuteTime": {
     "end_time": "2023-08-25T21:16:23.335257400Z",
     "start_time": "2023-08-25T21:16:23.311257100Z"
    }
   },
   "id": "93c23c9324968fbf"
  },
  {
   "cell_type": "code",
   "execution_count": 8,
   "outputs": [],
   "source": [
    "def get_dataframe(platform) -> pd.DataFrame:\n",
    "    if platform == \"vk\":\n",
    "        return vk_df\n",
    "    elif platform == \"zn\":\n",
    "        return zn_df\n",
    "    else:\n",
    "        return tg_df"
   ],
   "metadata": {
    "collapsed": false,
    "ExecuteTime": {
     "end_time": "2023-08-25T21:16:24.807752800Z",
     "start_time": "2023-08-25T21:16:24.790756400Z"
    }
   },
   "id": "893a2e7a3cedb76b"
  },
  {
   "cell_type": "code",
   "execution_count": 9,
   "outputs": [
    {
     "name": "stdout",
     "output_type": "stream",
     "text": [
      "136\n"
     ]
    }
   ],
   "source": [
    "print(vk_df[vk_df['image'] == \"0a5dbcdc-2e44-4579-a576-c93d5ee55485.png\"]['y'].values[0])"
   ],
   "metadata": {
    "collapsed": false,
    "ExecuteTime": {
     "end_time": "2023-08-25T21:16:25.882551300Z",
     "start_time": "2023-08-25T21:16:25.857555700Z"
    }
   },
   "id": "89b2d3e1457ef0b5"
  },
  {
   "cell_type": "code",
   "execution_count": 10,
   "outputs": [
    {
     "name": "stderr",
     "output_type": "stream",
     "text": [
      "100%|██████████| 305/305 [07:20<00:00,  1.45s/it]\n",
      "100%|██████████| 715/715 [12:18<00:00,  1.03s/it]\n",
      "100%|██████████| 64/64 [01:10<00:00,  1.11s/it]\n"
     ]
    },
    {
     "data": {
      "text/plain": "                                                   text platform      y\n0     pro livedune com LiveDune psy4mylife вовлеченн...        1    108\n1     Статистика Telegram-Ka Причеры -криншстов (пс ...        1     75\n2     TGStat Быстрый поиск. Мария Петрова Гтари тотр...        1     60\n3     TGStat Быстрый поиск Roman Kolymazhnov EE Ката...        1     98\n4     09:16 LTE LIVEDUNE Сводная Посты Вовлеченность...        1  86.61\n...                                                 ...      ...    ...\n1032  0 Ы77 dzen ru profile /editor/id/5ff4de8aaf1 4...        3  13914\n1033  dzenru / profile/editor/id/642de8Od345caclfgGe...        3     81\n1034  Статистика Системз кснк Дзен Янде Почта MailrL...        3   1080\n1035  Дзен-студия Мама; сноEа рисю: Главнсе Статисти...        3   2875\n1036  Дзен-студия Главное Статистика ilil Статистика...        3    124\n\n[1037 rows x 3 columns]",
      "text/html": "<div>\n<style scoped>\n    .dataframe tbody tr th:only-of-type {\n        vertical-align: middle;\n    }\n\n    .dataframe tbody tr th {\n        vertical-align: top;\n    }\n\n    .dataframe thead th {\n        text-align: right;\n    }\n</style>\n<table border=\"1\" class=\"dataframe\">\n  <thead>\n    <tr style=\"text-align: right;\">\n      <th></th>\n      <th>text</th>\n      <th>platform</th>\n      <th>y</th>\n    </tr>\n  </thead>\n  <tbody>\n    <tr>\n      <th>0</th>\n      <td>pro livedune com LiveDune psy4mylife вовлеченн...</td>\n      <td>1</td>\n      <td>108</td>\n    </tr>\n    <tr>\n      <th>1</th>\n      <td>Статистика Telegram-Ka Причеры -криншстов (пс ...</td>\n      <td>1</td>\n      <td>75</td>\n    </tr>\n    <tr>\n      <th>2</th>\n      <td>TGStat Быстрый поиск. Мария Петрова Гтари тотр...</td>\n      <td>1</td>\n      <td>60</td>\n    </tr>\n    <tr>\n      <th>3</th>\n      <td>TGStat Быстрый поиск Roman Kolymazhnov EE Ката...</td>\n      <td>1</td>\n      <td>98</td>\n    </tr>\n    <tr>\n      <th>4</th>\n      <td>09:16 LTE LIVEDUNE Сводная Посты Вовлеченность...</td>\n      <td>1</td>\n      <td>86.61</td>\n    </tr>\n    <tr>\n      <th>...</th>\n      <td>...</td>\n      <td>...</td>\n      <td>...</td>\n    </tr>\n    <tr>\n      <th>1032</th>\n      <td>0 Ы77 dzen ru profile /editor/id/5ff4de8aaf1 4...</td>\n      <td>3</td>\n      <td>13914</td>\n    </tr>\n    <tr>\n      <th>1033</th>\n      <td>dzenru / profile/editor/id/642de8Od345caclfgGe...</td>\n      <td>3</td>\n      <td>81</td>\n    </tr>\n    <tr>\n      <th>1034</th>\n      <td>Статистика Системз кснк Дзен Янде Почта MailrL...</td>\n      <td>3</td>\n      <td>1080</td>\n    </tr>\n    <tr>\n      <th>1035</th>\n      <td>Дзен-студия Мама; сноEа рисю: Главнсе Статисти...</td>\n      <td>3</td>\n      <td>2875</td>\n    </tr>\n    <tr>\n      <th>1036</th>\n      <td>Дзен-студия Главное Статистика ilil Статистика...</td>\n      <td>3</td>\n      <td>124</td>\n    </tr>\n  </tbody>\n</table>\n<p>1037 rows × 3 columns</p>\n</div>"
     },
     "execution_count": 10,
     "metadata": {},
     "output_type": "execute_result"
    }
   ],
   "source": [
    "from tqdm import tqdm\n",
    "\n",
    "for platform in platform_dict.keys():\n",
    "    path = f\"{DATASET}/{platform}/images\"\n",
    "    dataframe = get_dataframe(platform)\n",
    "    files: list[str] = get_images(dataframe)\n",
    "    for file in tqdm(files):\n",
    "        if file.lower().endswith(ALLOWED_FILES):\n",
    "            try:\n",
    "                text = \" \".join(reader.readtext(f\"{path}/{file}\", detail=0, paragraph=True))\n",
    "                y = get_y_value(dataframe, file)\n",
    "                data = {\"text\": text, \"platform\": platform_dict[platform], \"y\": y}\n",
    "                df = df._append(data, ignore_index=True)\n",
    "            except:\n",
    "                continue\n",
    "df"
   ],
   "metadata": {
    "collapsed": false,
    "ExecuteTime": {
     "end_time": "2023-08-25T21:37:17.988142100Z",
     "start_time": "2023-08-25T21:16:27.752283400Z"
    }
   },
   "id": "fab0b3e063070a75"
  },
  {
   "cell_type": "code",
   "execution_count": 11,
   "outputs": [
    {
     "data": {
      "text/plain": "                                                   text platform      y\n0     pro livedune com LiveDune psy4mylife вовлеченн...        1    108\n1     Статистика Telegram-Ka Причеры -криншстов (пс ...        1     75\n2     TGStat Быстрый поиск. Мария Петрова Гтари тотр...        1     60\n3     TGStat Быстрый поиск Roman Kolymazhnov EE Ката...        1     98\n4     09:16 LTE LIVEDUNE Сводная Посты Вовлеченность...        1  86.61\n...                                                 ...      ...    ...\n1032  0 Ы77 dzen ru profile /editor/id/5ff4de8aaf1 4...        3  13914\n1033  dzenru / profile/editor/id/642de8Od345caclfgGe...        3     81\n1034  Статистика Системз кснк Дзен Янде Почта MailrL...        3   1080\n1035  Дзен-студия Мама; сноEа рисю: Главнсе Статисти...        3   2875\n1036  Дзен-студия Главное Статистика ilil Статистика...        3    124\n\n[1037 rows x 3 columns]",
      "text/html": "<div>\n<style scoped>\n    .dataframe tbody tr th:only-of-type {\n        vertical-align: middle;\n    }\n\n    .dataframe tbody tr th {\n        vertical-align: top;\n    }\n\n    .dataframe thead th {\n        text-align: right;\n    }\n</style>\n<table border=\"1\" class=\"dataframe\">\n  <thead>\n    <tr style=\"text-align: right;\">\n      <th></th>\n      <th>text</th>\n      <th>platform</th>\n      <th>y</th>\n    </tr>\n  </thead>\n  <tbody>\n    <tr>\n      <th>0</th>\n      <td>pro livedune com LiveDune psy4mylife вовлеченн...</td>\n      <td>1</td>\n      <td>108</td>\n    </tr>\n    <tr>\n      <th>1</th>\n      <td>Статистика Telegram-Ka Причеры -криншстов (пс ...</td>\n      <td>1</td>\n      <td>75</td>\n    </tr>\n    <tr>\n      <th>2</th>\n      <td>TGStat Быстрый поиск. Мария Петрова Гтари тотр...</td>\n      <td>1</td>\n      <td>60</td>\n    </tr>\n    <tr>\n      <th>3</th>\n      <td>TGStat Быстрый поиск Roman Kolymazhnov EE Ката...</td>\n      <td>1</td>\n      <td>98</td>\n    </tr>\n    <tr>\n      <th>4</th>\n      <td>09:16 LTE LIVEDUNE Сводная Посты Вовлеченность...</td>\n      <td>1</td>\n      <td>86.61</td>\n    </tr>\n    <tr>\n      <th>...</th>\n      <td>...</td>\n      <td>...</td>\n      <td>...</td>\n    </tr>\n    <tr>\n      <th>1032</th>\n      <td>0 Ы77 dzen ru profile /editor/id/5ff4de8aaf1 4...</td>\n      <td>3</td>\n      <td>13914</td>\n    </tr>\n    <tr>\n      <th>1033</th>\n      <td>dzenru / profile/editor/id/642de8Od345caclfgGe...</td>\n      <td>3</td>\n      <td>81</td>\n    </tr>\n    <tr>\n      <th>1034</th>\n      <td>Статистика Системз кснк Дзен Янде Почта MailrL...</td>\n      <td>3</td>\n      <td>1080</td>\n    </tr>\n    <tr>\n      <th>1035</th>\n      <td>Дзен-студия Мама; сноEа рисю: Главнсе Статисти...</td>\n      <td>3</td>\n      <td>2875</td>\n    </tr>\n    <tr>\n      <th>1036</th>\n      <td>Дзен-студия Главное Статистика ilil Статистика...</td>\n      <td>3</td>\n      <td>124</td>\n    </tr>\n  </tbody>\n</table>\n<p>1037 rows × 3 columns</p>\n</div>"
     },
     "execution_count": 11,
     "metadata": {},
     "output_type": "execute_result"
    }
   ],
   "source": [
    "df"
   ],
   "metadata": {
    "collapsed": false,
    "ExecuteTime": {
     "end_time": "2023-08-25T21:39:51.419879400Z",
     "start_time": "2023-08-25T21:39:51.371943600Z"
    }
   },
   "id": "32cfccc44f9a1366"
  },
  {
   "cell_type": "code",
   "execution_count": 72,
   "outputs": [
    {
     "name": "stdout",
     "output_type": "stream",
     "text": [
      "([\\d.]+(?:%)?)\n"
     ]
    },
    {
     "data": {
      "text/plain": "['31',\n '21.29',\n '1',\n '1',\n '1',\n '9',\n '7',\n '0',\n '2',\n '0...23.42.13',\n '.',\n '113',\n '0.4',\n '19',\n '53',\n '5',\n '.',\n '13',\n '.',\n '.',\n '121',\n '1',\n '3',\n '0...10.53.24',\n '107.1%',\n '0%',\n '24',\n '1',\n '2',\n '1',\n '529',\n '12.03.2022',\n '09.10.2022',\n '12',\n '84',\n '108%',\n '18.07%',\n '9',\n '2',\n '0..',\n '14.17.06',\n '31']"
     },
     "execution_count": 72,
     "metadata": {},
     "output_type": "execute_result"
    }
   ],
   "source": [
    "import re\n",
    "\n",
    "anchor_words = [\"вовлеченность подписчиков\", \"vr\", \"вовлеченность подписчиков\", \"средний охват публикации\",]\n",
    "text:list = df.iloc[6]['text'].lower().split()\n",
    "new_text = \" \".join(text)\n",
    "for word in anchor_words:\n",
    "    if word in text:\n",
    "        index = text.index(word)\n",
    "        new_text = \" \".join(text[index: ])\n",
    "        \n",
    "pattern = r'([\\d.]+(?:%)?)'\n",
    "print(pattern)\n",
    "\n",
    "re.findall(pattern, new_text)\n"
   ],
   "metadata": {
    "collapsed": false,
    "ExecuteTime": {
     "end_time": "2023-08-25T22:45:13.610554800Z",
     "start_time": "2023-08-25T22:45:13.561555800Z"
    }
   },
   "id": "b0ce7219470b65a5"
  },
  {
   "cell_type": "code",
   "execution_count": 56,
   "outputs": [
    {
     "data": {
      "text/plain": "'вовлеченность подписчиков|средний охват публикации|vr'"
     },
     "execution_count": 56,
     "metadata": {},
     "output_type": "execute_result"
    }
   ],
   "source": [
    "\"|\".join(word for word in anchor_words)"
   ],
   "metadata": {
    "collapsed": false,
    "ExecuteTime": {
     "end_time": "2023-08-25T22:38:31.399831700Z",
     "start_time": "2023-08-25T22:38:31.385832200Z"
    }
   },
   "id": "35dc777b1cfeac48"
  },
  {
   "cell_type": "code",
   "execution_count": 71,
   "outputs": [
    {
     "data": {
      "text/plain": "text        Chrome Файл Изменить Посмотреть История Заклад...\nplatform                                                    1\ny                                                         107\nName: 6, dtype: object"
     },
     "execution_count": 71,
     "metadata": {},
     "output_type": "execute_result"
    }
   ],
   "source": [
    "df.iloc[6]"
   ],
   "metadata": {
    "collapsed": false,
    "ExecuteTime": {
     "end_time": "2023-08-25T22:45:10.064217700Z",
     "start_time": "2023-08-25T22:45:10.046218800Z"
    }
   },
   "id": "634c8fc36349f58"
  },
  {
   "cell_type": "code",
   "execution_count": 25,
   "outputs": [],
   "source": [
    "df.to_csv(\"image_dataset.csv\", index=False)"
   ],
   "metadata": {
    "collapsed": false,
    "ExecuteTime": {
     "end_time": "2023-08-25T21:47:08.332822300Z",
     "start_time": "2023-08-25T21:47:08.295770Z"
    }
   },
   "id": "4baed61c46c91837"
  }
 ],
 "metadata": {
  "kernelspec": {
   "display_name": "Python 3",
   "language": "python",
   "name": "python3"
  },
  "language_info": {
   "codemirror_mode": {
    "name": "ipython",
    "version": 2
   },
   "file_extension": ".py",
   "mimetype": "text/x-python",
   "name": "python",
   "nbconvert_exporter": "python",
   "pygments_lexer": "ipython2",
   "version": "2.7.6"
  }
 },
 "nbformat": 4,
 "nbformat_minor": 5
}
