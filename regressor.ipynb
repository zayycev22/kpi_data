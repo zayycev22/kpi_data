{
 "cells": [
  {
   "cell_type": "code",
   "execution_count": null,
   "id": "initial_id",
   "metadata": {
    "collapsed": true
   },
   "outputs": [],
   "source": [
    "import pandas as pd\n",
    "from catboost import CatBoostRegressor\n",
    "from sklearn.model_selection import train_test_split"
   ]
  },
  {
   "cell_type": "code",
   "execution_count": null,
   "outputs": [],
   "source": [
    "df = pd.read_csv(\"image_dataset.csv\")\n",
    "df"
   ],
   "metadata": {
    "collapsed": false
   },
   "id": "5a7db83a80801fad"
  },
  {
   "cell_type": "code",
   "execution_count": null,
   "outputs": [],
   "source": [
    "tg_df = df[df['platform'] == 1]\n",
    "vk_df = df[df['platform'] == 2]\n",
    "zn_df = df[df['platform'] == 3]"
   ],
   "metadata": {
    "collapsed": false
   },
   "id": "f02266e65920e3e"
  },
  {
   "cell_type": "code",
   "execution_count": null,
   "outputs": [],
   "source": [
    "tg_df.columns"
   ],
   "metadata": {
    "collapsed": false
   },
   "id": "e84727af81b9cb3a"
  },
  {
   "cell_type": "code",
   "execution_count": null,
   "outputs": [],
   "source": [
    "x_train, x_test, y_train, y_test = train_test_split(tg_df.drop(['y', 'platform'], axis=1), tg_df['y'],\n",
    "                                                    test_size=0.28,\n",
    "                                                    random_state=228)\n",
    "x_train"
   ],
   "metadata": {
    "collapsed": false
   },
   "id": "f63ad7e2145d3b0a"
  },
  {
   "cell_type": "code",
   "execution_count": null,
   "outputs": [],
   "source": [
    "text_features = [\"text\"]"
   ],
   "metadata": {
    "collapsed": false
   },
   "id": "75c1e16f3772cfce"
  },
  {
   "cell_type": "code",
   "execution_count": null,
   "outputs": [],
   "source": [
    "model = CatBoostRegressor(iterations=5000, loss_function='MAE', learning_rate=0.01, max_depth=5, eval_metric=\"MAE\",\n",
    "                          leaf_estimation_backtracking=\"AnyImprovement\", subsample=0.3, bagging_temperature=0.4,\n",
    "                          langevin=True)\n"
   ],
   "metadata": {
    "collapsed": false
   },
   "id": "e502d97c1289a689"
  },
  {
   "cell_type": "code",
   "execution_count": null,
   "outputs": [],
   "source": [
    "model.fit(x_train, y_train, use_best_model=True, eval_set=(x_test, y_test), text_features=text_features, early_stopping_rounds=500)"
   ],
   "metadata": {
    "collapsed": false
   },
   "id": "2e36d680986e5b1e"
  },
  {
   "cell_type": "code",
   "execution_count": null,
   "outputs": [],
   "source": [
    "model.save_model(\"tg_model\")"
   ],
   "metadata": {
    "collapsed": false
   },
   "id": "edc94e32a5069f45"
  },
  {
   "cell_type": "code",
   "execution_count": null,
   "outputs": [],
   "source": [
    "x_train, x_test, y_train, y_test = train_test_split(vk_df.drop(['y', 'platform'], axis=1), vk_df['y'],\n",
    "                                                    test_size=0.28,\n",
    "                                                    random_state=228)\n"
   ],
   "metadata": {
    "collapsed": false
   },
   "id": "b58f57131a589403"
  },
  {
   "cell_type": "code",
   "execution_count": null,
   "outputs": [],
   "source": [
    "model = CatBoostRegressor(iterations=5000, loss_function='MAE', learning_rate=0.01, max_depth=5, eval_metric=\"MAE\",\n",
    "                          leaf_estimation_backtracking=\"AnyImprovement\", subsample=0.3, bagging_temperature=0.4,\n",
    "                          langevin=True)"
   ],
   "metadata": {
    "collapsed": false
   },
   "id": "fa064113210854a"
  },
  {
   "cell_type": "code",
   "execution_count": null,
   "outputs": [],
   "source": [
    "model.fit(x_train, y_train, use_best_model=True, eval_set=(x_test, y_test), text_features=text_features, early_stopping_rounds=500)"
   ],
   "metadata": {
    "collapsed": false
   },
   "id": "c451754d6c874fef"
  },
  {
   "cell_type": "code",
   "execution_count": null,
   "outputs": [],
   "source": [
    "model.save_model(\"vk_model\")"
   ],
   "metadata": {
    "collapsed": false
   },
   "id": "9616374c772bde30"
  },
  {
   "cell_type": "code",
   "execution_count": null,
   "outputs": [],
   "source": [
    "x_train, x_test, y_train, y_test = train_test_split(zn_df.drop(['y', 'platform'], axis=1), zn_df['y'],\n",
    "                                                    test_size=0.28,\n",
    "                                                    random_state=228)\n",
    "x_train"
   ],
   "metadata": {
    "collapsed": false
   },
   "id": "c3c0bc538aac4528"
  },
  {
   "cell_type": "code",
   "execution_count": null,
   "outputs": [],
   "source": [
    "model = CatBoostRegressor(iterations=5000, loss_function='MAE', learning_rate=0.01, max_depth=5, eval_metric=\"MAE\",\n",
    "                          leaf_estimation_backtracking=\"AnyImprovement\", subsample=0.3, bagging_temperature=0.4,\n",
    "                          langevin=True)"
   ],
   "metadata": {
    "collapsed": false
   },
   "id": "f8aff952d6fdf3ed"
  },
  {
   "cell_type": "code",
   "execution_count": null,
   "outputs": [],
   "source": [
    "model.fit(x_train, y_train, use_best_model=True, eval_set=(x_test, y_test), text_features=text_features, early_stopping_rounds=500)"
   ],
   "metadata": {
    "collapsed": false
   },
   "id": "4c268f90ff0097ae"
  },
  {
   "cell_type": "code",
   "execution_count": null,
   "outputs": [],
   "source": [
    "model.save_model(\"zn_model\")"
   ],
   "metadata": {
    "collapsed": false
   },
   "id": "13f97663c9085909"
  },
  {
   "cell_type": "code",
   "execution_count": null,
   "outputs": [],
   "source": [
    "x_train.iloc[0]"
   ],
   "metadata": {
    "collapsed": false
   },
   "id": "92f51e49f70fd9de"
  }
 ],
 "metadata": {
  "kernelspec": {
   "display_name": "Python 3",
   "language": "python",
   "name": "python3"
  },
  "language_info": {
   "codemirror_mode": {
    "name": "ipython",
    "version": 2
   },
   "file_extension": ".py",
   "mimetype": "text/x-python",
   "name": "python",
   "nbconvert_exporter": "python",
   "pygments_lexer": "ipython2",
   "version": "2.7.6"
  }
 },
 "nbformat": 4,
 "nbformat_minor": 5
}
