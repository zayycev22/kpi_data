{
 "cells": [
  {
   "cell_type": "code",
   "execution_count": 1,
   "id": "initial_id",
   "metadata": {
    "collapsed": true,
    "ExecuteTime": {
     "end_time": "2023-08-26T17:18:19.717271800Z",
     "start_time": "2023-08-26T17:18:14.388118400Z"
    }
   },
   "outputs": [],
   "source": [
    "import numpy as np\n",
    "from easyocr import Reader\n",
    "import cv2\n",
    "import os\n",
    "\n",
    "reader = Reader(lang_list=['ru', 'en'], gpu=True)"
   ]
  },
  {
   "cell_type": "code",
   "execution_count": 20,
   "outputs": [],
   "source": [
    "def get_image_orientation(image: np.ndarray):\n",
    "    height, width = image.shape\n",
    "    if height > width:\n",
    "        return \"vertical\"\n",
    "    else:\n",
    "        return \"horzontal\""
   ],
   "metadata": {
    "collapsed": false,
    "ExecuteTime": {
     "end_time": "2023-08-26T19:41:39.886739800Z",
     "start_time": "2023-08-26T19:41:39.864742400Z"
    }
   },
   "id": "7560362631d503bd"
  },
  {
   "cell_type": "code",
   "execution_count": 21,
   "outputs": [],
   "source": [
    "def crop_pic(img, location, w, h):\n",
    "    cropped_img = img[location[1]:location[1] + h, location[0]:location[0] + w]\n",
    "    return cropped_img"
   ],
   "metadata": {
    "collapsed": false,
    "ExecuteTime": {
     "end_time": "2023-08-26T19:41:40.334372100Z",
     "start_time": "2023-08-26T19:41:40.307375200Z"
    }
   },
   "id": "eea11421dbb6144e"
  },
  {
   "cell_type": "code",
   "execution_count": 44,
   "outputs": [],
   "source": [
    "def match_pic(img: np.ndarray, template: np.ndarray):\n",
    "    methods = [cv2.TM_CCOEFF, cv2.TM_CCOEFF_NORMED, cv2.TM_CCORR,\n",
    "               cv2.TM_CCORR_NORMED, cv2.TM_SQDIFF, cv2.TM_SQDIFF_NORMED]\n",
    "    ans, flag = 0, False\n",
    "    h, w = template.shape\n",
    "    for method in methods:\n",
    "        img2 = img.copy()\n",
    "\n",
    "        result = cv2.matchTemplate(img2, template, method)\n",
    "        min_val, max_val, min_loc, max_loc = cv2.minMaxLoc(result)\n",
    "        if method in [cv2.TM_SQDIFF, cv2.TM_SQDIFF_NORMED]:\n",
    "            location = min_loc\n",
    "        else:\n",
    "            location = max_loc\n",
    "\n",
    "        bottom_right = (location[0] + w, location[1] + h)\n",
    "        cv2.rectangle(img2, location, bottom_right, 0, 5)\n",
    "        try:\n",
    "            cropped = crop_pic(img, location, w, h)\n",
    "            text = reader.readtext(cropped, detail=0, paragraph=True)\n",
    "            print(text)\n",
    "            del cropped\n",
    "        except:\n",
    "            continue\n",
    "        cv2.imshow('Match', img2)\n",
    "        cv2.waitKey(0)\n",
    "        cv2.destroyAllWindows()\n",
    "        del img2\n",
    "    return ans, flag"
   ],
   "metadata": {
    "collapsed": false,
    "ExecuteTime": {
     "end_time": "2023-08-26T21:32:57.447414700Z",
     "start_time": "2023-08-26T21:32:57.431416400Z"
    }
   },
   "id": "34ab082ee8bcd781"
  },
  {
   "cell_type": "code",
   "execution_count": 6,
   "outputs": [
    {
     "name": "stdout",
     "output_type": "stream",
     "text": [
      "<class 'numpy.ndarray'>\n"
     ]
    }
   ],
   "source": [
    "path = \"train_dataset/tg/images/2e621d07-5293-47c5-b240-a429b989532b.jpg\"\n",
    "img = cv2.imread(path, 0)\n",
    "print(type(img))\n",
    "cv2.imshow(\"sdf\", img)\n",
    "cv2.waitKey(0)\n",
    "cv2.destroyAllWindows()"
   ],
   "metadata": {
    "collapsed": false,
    "ExecuteTime": {
     "end_time": "2023-08-26T17:16:43.008675200Z",
     "start_time": "2023-08-26T17:16:34.265382600Z"
    }
   },
   "id": "a65d94738cf150f6"
  },
  {
   "cell_type": "code",
   "execution_count": null,
   "outputs": [],
   "source": [
    "print(get_image_orientation(img))"
   ],
   "metadata": {
    "collapsed": false
   },
   "id": "29bf2c5a3deeda0e"
  },
  {
   "cell_type": "code",
   "execution_count": null,
   "outputs": [
    {
     "name": "stdout",
     "output_type": "stream",
     "text": [
      "['UXIО']\n",
      "['WU']\n",
      "[]\n",
      "['ОB']\n",
      "['ОB']\n",
      "['ОB']\n",
      "['KAK Я Первы', 'BHCKSUЛGЕ']\n",
      "['енного контент .', 'Ч']\n",
      "[]\n",
      "[]\n",
      "[]\n",
      "[]\n",
      "['немного качества Первые 11 дн: 19']\n",
      "['2']\n",
      "[]\n",
      "[]\n",
      "[]\n",
      "[]\n",
      "['KАK', 'FF']\n",
      "['А']\n",
      "[]\n",
      "['Ч']\n",
      "['ы']\n",
      "['ы']\n",
      "['Пер']\n",
      "[]\n",
      "[]\n",
      "[]\n",
      "[]\n",
      "[]\n",
      "['BHCISIAGБ', 'Первы']\n",
      "[]\n",
      "[]\n",
      "[]\n",
      "[]\n",
      "[]\n",
      "['Макияж двумя руками одновременно', 'Сво Пост', 'Про', '15 часов 19 минут после публикации:', 'Bper', 'Просмотры']\n",
      "['нель управления каналом', 'ффективность следнего видео', 'Аналитин']\n",
      "[]\n",
      "[]\n",
      "[]\n",
      "[]\n",
      "['одноврем', '15 часов 19 мИL']\n",
      "['одноврем', '15 часов 19']\n",
      "[]\n",
      "[]\n",
      "[]\n",
      "[]\n",
      "['уками', 'Сводные Последние']\n",
      "['вностЬ его видео']\n",
      "[]\n",
      "['1e 28 дней']\n",
      "['1e 28 дней']\n",
      "['1e 28 дней']\n",
      "['Макияж двумя руками одновременно', '15 часов 19 минут после публикации:']\n",
      "['Сводные данные Последние 28 дней', 'Просмотры']\n",
      "[]\n",
      "[]\n",
      "[]\n",
      "[]\n",
      "['Макияж', 'одноврем']\n",
      "['Эффективность последнего видео']\n",
      "[]\n",
      "[]\n",
      "['Макияж двумя руками одновременно']\n",
      "['Studio']\n",
      "['He думаю просто рисую #abstactant #arttherapy', 'Просмот', 'Время', 'COB 34 миНУТЬ после публикации\"', 'Лучшие Последн}', '-мотры', 'дний процент просмотра', '75,8 %', 'Как видя']\n",
      "['Аналитика по каналу Подписчики 24']\n",
      "[]\n",
      "[]\n",
      "[]\n",
      "[]\n",
      "['tractalt']\n",
      "[]\n",
      "[]\n",
      "[]\n",
      "[]\n",
      "[]\n",
      "['Последние 28 дней', 'ictalt', 'Просмотры', 'Время просмотра']\n",
      "['а по каналу']\n",
      "[]\n",
      "['Настройки']\n",
      "['Настройки']\n",
      "['Настройки']\n",
      "['ваю; просто рисую #abstactalt тapу', 'чинутЫ после публикациИ:']\n",
      "['КУ ПО КАНАЛУ']\n",
      "['счики']\n",
      "['исK на канале']\n",
      "['исK на канале']\n",
      "['исK на канале']\n",
      "['Эффективность последнего корс видео']\n",
      "[]\n",
      "[]\n",
      "[]\n",
      "['иаю; просто рисую #abstractalt erapy']\n",
      "['Панель управления каналсм', 'studio youtube com/c', 'Ваш аккаунт уязвим для хакерски']\n",
      "['ПуЕшсстьсннИК', '22 ПЪДПЬсЧИКL']\n",
      "['ПуЕшсстьсннИК', '22 ПЪДПЬсЧИКL']\n",
      "['ЕmЕиИ', '11 1 .', '10а1227', '111,', '#мгагъ']\n",
      "['=1АараUа = ГанЛ:-у', '#мгагн', 'щънн']\n",
      "['=1АараUа = ГанЛ:-у', '#мгагн', 'щънн']\n",
      "['=1АараUа = ГанЛ:-у', '#мгагн', 'щънн']\n",
      "['22 Подпкечики']\n",
      "['22 Подпкечики']\n",
      "[]\n",
      "['22 Подпкечики']\n",
      "['22 Подпкечики']\n",
      "['22 Подпкечики']\n",
      "['22 Подпкечики']\n",
      "['ПушшшгстаЕнник']\n",
      "[]\n",
      "[]\n",
      "['ПушшшгстаЕнник']\n",
      "['ППЕыЫ цПЫала']\n",
      "['22 ПоппьЕчину']\n",
      "['22 ПоппьЕчину']\n",
      "[]\n",
      "[]\n",
      "[]\n",
      "[]\n",
      "['ПуЕшсстьсннИК', '22']\n",
      "[]\n",
      "[]\n",
      "[]\n",
      "['E1мнвапта7', 'ГаАЛ=-']\n",
      "['Гтнн защдсин']\n",
      "['Аналитика', 'Санкт-Петербург: 50 рублей', 'Подлисчики 112 +52 Паслел', 'Отличная работа Понятателн каличостпа длнтсльности просмотров пыше чем обычно:', 'Ланные 10 чясов 46 минут после публикацим по Ерq=ненин вашими апычными пакнаятелями', 'Сводные да1 Паследнив 78']\n",
      "['Аналитика', 'Санкт-Петербург: 50 рублей', 'Подлисчики 112 +52 Паслел', 'Отличная работа Понятателн каличостпа длнтсльности просмотров пыше чем обычно:', 'Ланные 10 чясов 46 минут после публикацим по Ерq=ненин вашими апычными пакнаятелями', 'Сводные да1 Паследнив 78']\n",
      "['аНТарО=', '1 , 3']\n",
      "['UJIP', 'антаров He']\n",
      "['UJIP', 'антаров He']\n",
      "['UJIP', 'антаров He']\n",
      "['Санкт-Петербур', 'Отличная работа: Пок длнтсльности просмо']\n",
      "[]\n",
      "[]\n",
      "['15 6 тыс', '59 9']\n",
      "['15 6 тыс', '59 9']\n",
      "['15 6 тыс', '59 9']\n",
      "['Аналитика по канал', 'Палпигчнки']\n",
      "['Поздравляем!', '1/2']\n",
      "['~ледние 28 дней']\n",
      "[]\n",
      "['1 / 3']\n",
      "['1 / 3']\n",
      "['Санкт-Петербург: 50 рублей', \"Отличная работа' Показатсли каличества длиВЛЬНаСТЫ ЛDОСНQDОП пыше чем обычно\"]\n",
      "['ПОСМОТРЕТЬ СТАТИСТИКУ ПО ВИДЕО', 'ПЕРЕЙТИ K КОММЕНТАРИЯМ (0)']\n",
      "['1 , 3']\n",
      "[]\n",
      "[]\n",
      "[]\n",
      "['ПОСМОТРЕТЬ СТАТИС', 'Аналитика По кан', 'Подписчики']\n",
      "[]\n",
      "['дние 28 Лней']\n",
      "[]\n",
      "['Санкт-Петербург: 50 рублей']\n",
      "['Studio', 'Пане', 'ЪИнмтиг']\n",
      "['velshorts #travel:', 'за 2 дня 22 часа после ии по сравнению с вашими ии показателями']\n",
      "['Аналитика по каналу', 'Подписчики 96']\n",
      "['ие 28 дней']\n",
      "['ие 28 дней']\n",
      "['ие 28 дней']\n",
      "['ие 28 дней']\n",
      "[]\n",
      "['96 +9 за послед']\n",
      "[]\n",
      "[]\n",
      "[]\n",
      "[]\n",
      "['Своднь Последн', 'Ппосмо']\n",
      "['данные']\n",
      "[]\n",
      "['28 дней']\n",
      "['28 дней']\n",
      "['28 дней']\n",
      "['Impur Malaysia horts #travel:']\n",
      "['данные 28 дней', '3,0 тыс:']\n",
      "['ИКИ']\n",
      "[]\n",
      "[]\n",
      "[]\n",
      "[]\n",
      "[]\n",
      "[]\n",
      "[]\n",
      "['umpur Malaysia']\n",
      "['Панель управ']\n",
      "['БАВИТЬ ВИДЕО']\n",
      "['Комментарии']\n",
      "[]\n",
      "[]\n",
      "[]\n",
      "[]\n",
      "['ЦЕО']\n",
      "[]\n",
      "[]\n",
      "[]\n",
      "[]\n",
      "[]\n",
      "['IEO']\n",
      "['авная']\n",
      "[]\n",
      "[]\n",
      "[]\n",
      "[]\n",
      "['ВИТЬ ВИДЕО']\n",
      "['нтент']\n",
      "[]\n",
      "[]\n",
      "[]\n",
      "[]\n",
      "['Бм71 РИпzО']\n",
      "[]\n",
      "[]\n",
      "[]\n",
      "[]\n",
      "[]\n",
      "['m']\n",
      "['m']\n",
      "[]\n",
      "['ЭВ']\n",
      "['ЭВ']\n",
      "['ЭВ']\n",
      "['водная', 'Посты', 'Ауду']\n",
      "['Сравнение', 'KPI']\n",
      "[]\n",
      "['Сравнение', 'KPI']\n",
      "['Сравнение', 'KPI']\n",
      "['Сравнение', 'KPI']\n",
      "['JJ 70', 'lune com', 'AA']\n",
      "[]\n",
      "[]\n",
      "[]\n",
      "[]\n",
      "[]\n",
      "['pro IIV']\n",
      "[]\n",
      "[]\n",
      "[]\n",
      "[]\n",
      "[]\n",
      "['pro livedu']\n",
      "['08:42']\n",
      "[]\n",
      "['Я', 'Сравнение', 'KPI']\n",
      "['Я', 'Сравнение', 'KPI']\n",
      "['Я', 'Сравнение', 'KPI']\n",
      "['K', '@user-']\n",
      "[]\n",
      "[]\n",
      "[]\n",
      "[]\n",
      "[]\n",
      "['e 28 дней ваши видео набрали 6 просмотров', 'Премл ппосмотра (часы)', 'ПОДПисчнки']\n"
     ]
    }
   ],
   "source": [
    "test_path = \"masks/yt1/test\"\n",
    "mobile_path = \"masks/yt1/mobile\"\n",
    "desktop_path = \"masks/yt1/desktop\"\n",
    "for file in os.listdir(test_path):\n",
    "    img = cv2.resize(cv2.imread(f\"{test_path}/{file}\", 0), (0, 0), fx=0.8, fy=0.8)\n",
    "    orientation = get_image_orientation(img)\n",
    "    ans, flag = 0, False\n",
    "    if orientation == \"vertical\":\n",
    "        for mobile_mask in os.listdir(mobile_path):\n",
    "            template = cv2.resize(cv2.imread(f\"{mobile_path}/{mobile_mask}\", 0), (0, 0), fx=0.8, fy=0.8)\n",
    "            ans, flag = match_pic(img, template)\n",
    "            if flag:\n",
    "                print(ans, file)\n",
    "                break\n",
    "    else:\n",
    "        for desktop_mask in os.listdir(desktop_path):\n",
    "            template = cv2.imread(f\"{desktop_path}/{desktop_mask}\", 0)\n",
    "            ans, flag = match_pic(img, template)\n",
    "            if flag:\n",
    "                print(ans, file)\n",
    "                break"
   ],
   "metadata": {
    "collapsed": false,
    "ExecuteTime": {
     "start_time": "2023-08-26T23:09:50.534482600Z"
    }
   },
   "id": "e56dd757fdadaacf"
  },
  {
   "cell_type": "code",
   "execution_count": 49,
   "outputs": [
    {
     "name": "stdout",
     "output_type": "stream",
     "text": [
      "['25 303', '163 41']\n"
     ]
    }
   ],
   "source": [
    "import re\n",
    "\n",
    "text = 'Дата Показы Дачить ванив прасматрь Общее EремF просматра Подписки 25 303 163 41 NIF 2023'\n",
    "\n",
    "pattern = r'(\\d+\\s+\\d+)'\n",
    "\n",
    "match = re.findall(pattern, text)\n",
    "print(match)"
   ],
   "metadata": {
    "collapsed": false,
    "ExecuteTime": {
     "end_time": "2023-08-26T22:39:23.728548300Z",
     "start_time": "2023-08-26T22:39:23.718548900Z"
    }
   },
   "id": "eca01c89a9b65e2c"
  },
  {
   "cell_type": "code",
   "execution_count": 11,
   "outputs": [
    {
     "data": {
      "text/plain": "['86', '143']"
     },
     "execution_count": 11,
     "metadata": {},
     "output_type": "execute_result"
    }
   ],
   "source": [
    "import re\n",
    "\n",
    "re.findall(pattern, text)"
   ],
   "metadata": {
    "collapsed": false,
    "ExecuteTime": {
     "end_time": "2023-08-26T17:59:21.254095600Z",
     "start_time": "2023-08-26T17:59:21.248096Z"
    }
   },
   "id": "c47e82f7df26b3c6"
  },
  {
   "cell_type": "code",
   "execution_count": 48,
   "outputs": [
    {
     "data": {
      "text/plain": "'Дата Показы Дачить ванив прасматрь Общее EремF просматра Подписки 25 303 163 41 NIF 2023'"
     },
     "execution_count": 48,
     "metadata": {},
     "output_type": "execute_result"
    }
   ],
   "source": [
    "\" \".join(['Дата', 'Показы', 'Дачить ванив прасматрь', 'Общее EремF просматра', 'Подписки', '25 303', '163', '41 NIF 2023'])"
   ],
   "metadata": {
    "collapsed": false,
    "ExecuteTime": {
     "end_time": "2023-08-26T22:38:35.047673500Z",
     "start_time": "2023-08-26T22:38:35.000674300Z"
    }
   },
   "id": "f21957bb4beb52a8"
  }
 ],
 "metadata": {
  "kernelspec": {
   "display_name": "Python 3",
   "language": "python",
   "name": "python3"
  },
  "language_info": {
   "codemirror_mode": {
    "name": "ipython",
    "version": 2
   },
   "file_extension": ".py",
   "mimetype": "text/x-python",
   "name": "python",
   "nbconvert_exporter": "python",
   "pygments_lexer": "ipython2",
   "version": "2.7.6"
  }
 },
 "nbformat": 4,
 "nbformat_minor": 5
}
